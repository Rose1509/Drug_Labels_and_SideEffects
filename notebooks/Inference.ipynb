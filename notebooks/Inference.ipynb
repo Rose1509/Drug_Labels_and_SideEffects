{
 "cells": [
  {
   "cell_type": "code",
   "execution_count": 7,
   "id": "f80a376a-ecb4-4dc2-b5c6-9c792507dd62",
   "metadata": {},
   "outputs": [
    {
     "name": "stdout",
     "output_type": "stream",
     "text": [
      "Loaded trained model\n",
      "Please enter the following information to predict side effect severity:\n"
     ]
    },
    {
     "name": "stdin",
     "output_type": "stream",
     "text": [
      "Dosage (mg):  330\n",
      "Drug Class:  Antidepressant\n",
      "Indications:  Allergy relief\n",
      "Side Effects:  Fatigue, Nausea\n",
      "Contraindications:  Bleeding disorders\n",
      "Warnings:  Avoid alcohol\n",
      "Approval Status:  Pending\n",
      "Expiry date (YYYY-MM-DD):  2025-09-18\n"
     ]
    },
    {
     "name": "stdout",
     "output_type": "stream",
     "text": [
      "\n",
      "--- Prediction Result ---\n",
      "The predicted side effect severity is: Mild\n"
     ]
    }
   ],
   "source": [
    "import pandas as pd\n",
    "import joblib\n",
    "\n",
    "# === Load saved model and encoder ===\n",
    "best_pipeline = joblib.load(\"best_pipeline.joblib\")\n",
    "le = joblib.load(\"label_encoder.joblib\")\n",
    "\n",
    "# Load saved model\n",
    "model_pipeline = joblib.load(\"best_pipeline.joblib\")\n",
    "print(\"Loaded trained model\")\n",
    "\n",
    "# === User Input Section ===\n",
    "def get_user_drug_input():\n",
    "    \"\"\"\n",
    "    Collects user input for a new drug, computes days_until_expiry from expiry_date,\n",
    "    and returns a dictionary inside a list ready for prediction.\n",
    "    \"\"\"\n",
    "    print(\"Please enter the following information to predict side effect severity:\")\n",
    "\n",
    "    user_data = {}\n",
    "    try:\n",
    "        # Numeric features (except days_until_expiry)\n",
    "        user_data['dosage_mg'] = float(input(\"Dosage (mg): \"))\n",
    "\n",
    "        # Categorical features\n",
    "        user_data['drug_class'] = input(\"Drug Class: \")\n",
    "        user_data['indications'] = input(\"Indications: \")\n",
    "        user_data['side_effects'] = input(\"Side Effects: \")\n",
    "        user_data['contraindications'] = input(\"Contraindications: \")\n",
    "        user_data['warnings'] = input(\"Warnings: \")\n",
    "        user_data['approval_status'] = input(\"Approval Status: \")\n",
    "\n",
    "        # Expiry date input\n",
    "        expiry_input = input(\"Expiry date (YYYY-MM-DD): \")\n",
    "        expiry_dt = pd.to_datetime(expiry_input)\n",
    "        user_data['days_until_expiry'] = (expiry_dt - pd.Timestamp('today')).days\n",
    "        user_data['expiry_date'] = user_data['days_until_expiry']  # keep consistent with training\n",
    "\n",
    "    except ValueError:\n",
    "        print(\"\\nInvalid input. Please make sure numeric fields are numbers and date format is YYYY-MM-DD.\")\n",
    "        return None\n",
    "\n",
    "    return [user_data]  # list of dicts for DataFrame\n",
    "\n",
    "\n",
    "# === Get user input and make prediction ===\n",
    "user_input_data = get_user_drug_input()\n",
    "\n",
    "if user_input_data:\n",
    "    new_df = pd.DataFrame(user_input_data)\n",
    "\n",
    "    # Predict using trained pipeline\n",
    "    pred_encoded = model_pipeline.predict(new_df)\n",
    "    pred_label = le.inverse_transform(pred_encoded)\n",
    "\n",
    "    print(\"\\n--- Prediction Result ---\")\n",
    "    print(f\"The predicted side effect severity is: {pred_label[0]}\")\n",
    "\n"
   ]
  },
  {
   "cell_type": "code",
   "execution_count": null,
   "id": "a85a1847-7036-4b23-bf44-4cadcd3e8a0e",
   "metadata": {},
   "outputs": [],
   "source": []
  }
 ],
 "metadata": {
  "kernelspec": {
   "display_name": "Python 3 (ipykernel)",
   "language": "python",
   "name": "python3"
  },
  "language_info": {
   "codemirror_mode": {
    "name": "ipython",
    "version": 3
   },
   "file_extension": ".py",
   "mimetype": "text/x-python",
   "name": "python",
   "nbconvert_exporter": "python",
   "pygments_lexer": "ipython3",
   "version": "3.12.2"
  }
 },
 "nbformat": 4,
 "nbformat_minor": 5
}
